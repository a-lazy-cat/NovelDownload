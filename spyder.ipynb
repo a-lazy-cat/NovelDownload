{
 "cells": [
  {
   "cell_type": "code",
   "execution_count": 6,
   "id": "ff280e99",
   "metadata": {},
   "outputs": [],
   "source": [
    "import requests\n",
    "from bs4 import BeautifulSoup\n",
    "import multiprocessing\n",
    "from multiprocessing import Process,Pool\n",
    "import time"
   ]
  },
  {
   "cell_type": "code",
   "execution_count": 4,
   "id": "eeca6879",
   "metadata": {},
   "outputs": [],
   "source": [
    "def get_content(target):\n",
    "    req = requests.get(url = target)\n",
    "    req.encoding = 'GB2312'\n",
    "    html = req.text\n",
    "    bs = BeautifulSoup(html, 'lxml')\n",
    "    texts = bs.find('div', id='content')\n",
    "    newText = texts.text.replace('\\r','').replace('\\n','').replace('顶点小说网 www.23wx.vip，最快更新圣墟 ！','').strip().split('\\xa0'*4)\n",
    "    return newText\n",
    "\n",
    "def download(chapter):\n",
    "    print(11111)\n",
    "    target = 'https://www.23wx.vip/book_5690/'\n",
    "    chapter_name = chapter.string\n",
    "    url = target+chapter.get('href')\n",
    "    content = get_content(url)\n",
    "    book_name = '圣墟.txt'\n",
    "    with open(book_name, 'a', encoding='utf-8') as f:\n",
    "        f.write(chapter_name)\n",
    "        f.write('\\n')\n",
    "        f.write('\\n'.join(content))\n",
    "        f.write('\\n')\n",
    "    print('wirte end')"
   ]
  },
  {
   "cell_type": "code",
   "execution_count": 7,
   "id": "77d1128b",
   "metadata": {},
   "outputs": [],
   "source": [
    "if __name__ == '__main__':\n",
    "    target = 'https://www.23wx.vip/book_5690/'\n",
    "    req = requests.get(url = target)\n",
    "    req.encoding = 'GB2312'\n",
    "    html = req.text\n",
    "    bs = BeautifulSoup(html, 'lxml')\n",
    "    book_name = '圣墟.txt'\n",
    "    chapters = bs.find('div', id='list')\n",
    "    chapters = chapters.find_all('a')\n",
    "    skip=0;#skip first 12 chapeter\n",
    "    for chapter in chapters:\n",
    "        skip += 1\n",
    "        if(skip<=12):\n",
    "            continue\n",
    "        else:\n",
    "            chapter_name = chapter.string\n",
    "            url = target+chapter.get('href')\n",
    "            content = get_content(url)\n",
    "            time.sleep(0.5)\n",
    "            with open(book_name, 'a', encoding='utf-8') as f:\n",
    "                f.write(chapter_name)\n",
    "                f.write('\\n')\n",
    "                f.write('\\n'.join(content))\n",
    "                f.write('\\n')"
   ]
  },
  {
   "cell_type": "markdown",
   "id": "5ba96aec",
   "metadata": {},
   "source": [
    "单线程，给每章都标记号码，按号码排序保证不乱序"
   ]
  },
  {
   "cell_type": "code",
   "execution_count": 3,
   "id": "37ca9fcb",
   "metadata": {},
   "outputs": [],
   "source": [
    "import requests\n",
    "from bs4 import BeautifulSoup\n",
    "\n",
    "def get_content(url):\n",
    "    response = requests.get(url)\n",
    "    response.encoding = 'GB2312'\n",
    "    soup = BeautifulSoup(response.text, 'lxml')\n",
    "    texts = soup.find('div', id='content')\n",
    "    newText = texts.text.replace('\\r', '').replace('\\n', '').replace('顶点小说网 www.23wx.vip，最快更新圣墟 ！', '').strip().split('\\xa0' * 4)\n",
    "    return newText\n",
    "\n",
    "if __name__ == '__main__':\n",
    "    target = 'https://www.23wx.vip/book_5690/'\n",
    "    response = requests.get(target)\n",
    "    response.encoding = 'GB2312'\n",
    "    soup = BeautifulSoup(response.text, 'lxml')\n",
    "    book_name = '圣墟.txt'\n",
    "    chapters = soup.find('div', id='list').find_all('a')\n",
    "\n",
    "    chapters_content = []\n",
    "    skip = 12  # Skip first 12 chapters\n",
    "    chapter_number = 1  # Start chapter numbering\n",
    "\n",
    "    for chapter in chapters[skip:]:\n",
    "        chapter_name = chapter.get_text()\n",
    "        url = target + chapter.get('href')\n",
    "        content = get_content(url)\n",
    "        chapters_content.append((chapter_number, chapter_name, content))\n",
    "        chapter_number += 1\n",
    "\n",
    "    # Sort chapters by number\n",
    "    chapters_content.sort(key=lambda x: x[0])\n",
    "\n",
    "    # Write sorted chapters to file\n",
    "    with open(book_name, 'a', encoding='utf-8') as f:\n",
    "        for chapter_number, chapter_name, content in chapters_content:\n",
    "            f.write(f\"Chapter {chapter_number}: {chapter_name}\")\n",
    "            f.write('\\n')\n",
    "            f.write('\\n'.join(content))\n",
    "            f.write('\\n')"
   ]
  },
  {
   "cell_type": "code",
   "execution_count": 84,
   "id": "29ec998a",
   "metadata": {},
   "outputs": [],
   "source": []
  },
  {
   "cell_type": "code",
   "execution_count": null,
   "id": "75374172",
   "metadata": {},
   "outputs": [],
   "source": []
  },
  {
   "cell_type": "code",
   "execution_count": 90,
   "id": "f7ed6479",
   "metadata": {
    "collapsed": true
   },
   "outputs": [
    {
     "name": "stdout",
     "output_type": "stream",
     "text": [
      "13\n"
     ]
    },
    {
     "ename": "RecursionError",
     "evalue": "maximum recursion depth exceeded while calling a Python object",
     "output_type": "error",
     "traceback": [
      "\u001b[1;31m---------------------------------------------------------------------------\u001b[0m",
      "\u001b[1;31mRecursionError\u001b[0m                            Traceback (most recent call last)",
      "Cell \u001b[1;32mIn[90], line 21\u001b[0m\n\u001b[0;32m     19\u001b[0m     pool\u001b[38;5;241m.\u001b[39mjoin()\n\u001b[0;32m     20\u001b[0m \u001b[38;5;28;01mif\u001b[39;00m \u001b[38;5;18m__name__\u001b[39m \u001b[38;5;241m==\u001b[39m \u001b[38;5;124m'\u001b[39m\u001b[38;5;124m__main__\u001b[39m\u001b[38;5;124m'\u001b[39m:\n\u001b[1;32m---> 21\u001b[0m     main()\n",
      "Cell \u001b[1;32mIn[90], line 17\u001b[0m, in \u001b[0;36mmain\u001b[1;34m()\u001b[0m\n\u001b[0;32m     15\u001b[0m     \u001b[38;5;28;01melse\u001b[39;00m:\n\u001b[0;32m     16\u001b[0m         \u001b[38;5;28mprint\u001b[39m(skip)\n\u001b[1;32m---> 17\u001b[0m         pool\u001b[38;5;241m.\u001b[39mapply(func\u001b[38;5;241m=\u001b[39mdownload,args\u001b[38;5;241m=\u001b[39m(chapter,))\n\u001b[0;32m     18\u001b[0m pool\u001b[38;5;241m.\u001b[39mclose()\n\u001b[0;32m     19\u001b[0m pool\u001b[38;5;241m.\u001b[39mjoin()\n",
      "File \u001b[1;32mD:\\work\\procedure\\Anaconda\\program\\Lib\\multiprocessing\\pool.py:360\u001b[0m, in \u001b[0;36mPool.apply\u001b[1;34m(self, func, args, kwds)\u001b[0m\n\u001b[0;32m    355\u001b[0m \u001b[38;5;28;01mdef\u001b[39;00m \u001b[38;5;21mapply\u001b[39m(\u001b[38;5;28mself\u001b[39m, func, args\u001b[38;5;241m=\u001b[39m(), kwds\u001b[38;5;241m=\u001b[39m{}):\n\u001b[0;32m    356\u001b[0m \u001b[38;5;250m    \u001b[39m\u001b[38;5;124;03m'''\u001b[39;00m\n\u001b[0;32m    357\u001b[0m \u001b[38;5;124;03m    Equivalent of `func(*args, **kwds)`.\u001b[39;00m\n\u001b[0;32m    358\u001b[0m \u001b[38;5;124;03m    Pool must be running.\u001b[39;00m\n\u001b[0;32m    359\u001b[0m \u001b[38;5;124;03m    '''\u001b[39;00m\n\u001b[1;32m--> 360\u001b[0m     \u001b[38;5;28;01mreturn\u001b[39;00m \u001b[38;5;28mself\u001b[39m\u001b[38;5;241m.\u001b[39mapply_async(func, args, kwds)\u001b[38;5;241m.\u001b[39mget()\n",
      "File \u001b[1;32mD:\\work\\procedure\\Anaconda\\program\\Lib\\multiprocessing\\pool.py:774\u001b[0m, in \u001b[0;36mApplyResult.get\u001b[1;34m(self, timeout)\u001b[0m\n\u001b[0;32m    772\u001b[0m     \u001b[38;5;28;01mreturn\u001b[39;00m \u001b[38;5;28mself\u001b[39m\u001b[38;5;241m.\u001b[39m_value\n\u001b[0;32m    773\u001b[0m \u001b[38;5;28;01melse\u001b[39;00m:\n\u001b[1;32m--> 774\u001b[0m     \u001b[38;5;28;01mraise\u001b[39;00m \u001b[38;5;28mself\u001b[39m\u001b[38;5;241m.\u001b[39m_value\n",
      "File \u001b[1;32mD:\\work\\procedure\\Anaconda\\program\\Lib\\multiprocessing\\pool.py:540\u001b[0m, in \u001b[0;36mPool._handle_tasks\u001b[1;34m(taskqueue, put, outqueue, pool, cache)\u001b[0m\n\u001b[0;32m    538\u001b[0m     \u001b[38;5;28;01mbreak\u001b[39;00m\n\u001b[0;32m    539\u001b[0m \u001b[38;5;28;01mtry\u001b[39;00m:\n\u001b[1;32m--> 540\u001b[0m     put(task)\n\u001b[0;32m    541\u001b[0m \u001b[38;5;28;01mexcept\u001b[39;00m \u001b[38;5;167;01mException\u001b[39;00m \u001b[38;5;28;01mas\u001b[39;00m e:\n\u001b[0;32m    542\u001b[0m     job, idx \u001b[38;5;241m=\u001b[39m task[:\u001b[38;5;241m2\u001b[39m]\n",
      "File \u001b[1;32mD:\\work\\procedure\\Anaconda\\program\\Lib\\multiprocessing\\connection.py:205\u001b[0m, in \u001b[0;36m_ConnectionBase.send\u001b[1;34m(self, obj)\u001b[0m\n\u001b[0;32m    203\u001b[0m \u001b[38;5;28mself\u001b[39m\u001b[38;5;241m.\u001b[39m_check_closed()\n\u001b[0;32m    204\u001b[0m \u001b[38;5;28mself\u001b[39m\u001b[38;5;241m.\u001b[39m_check_writable()\n\u001b[1;32m--> 205\u001b[0m \u001b[38;5;28mself\u001b[39m\u001b[38;5;241m.\u001b[39m_send_bytes(_ForkingPickler\u001b[38;5;241m.\u001b[39mdumps(obj))\n",
      "File \u001b[1;32mD:\\work\\procedure\\Anaconda\\program\\Lib\\multiprocessing\\reduction.py:51\u001b[0m, in \u001b[0;36mForkingPickler.dumps\u001b[1;34m(cls, obj, protocol)\u001b[0m\n\u001b[0;32m     48\u001b[0m \u001b[38;5;129m@classmethod\u001b[39m\n\u001b[0;32m     49\u001b[0m \u001b[38;5;28;01mdef\u001b[39;00m \u001b[38;5;21mdumps\u001b[39m(\u001b[38;5;28mcls\u001b[39m, obj, protocol\u001b[38;5;241m=\u001b[39m\u001b[38;5;28;01mNone\u001b[39;00m):\n\u001b[0;32m     50\u001b[0m     buf \u001b[38;5;241m=\u001b[39m io\u001b[38;5;241m.\u001b[39mBytesIO()\n\u001b[1;32m---> 51\u001b[0m     \u001b[38;5;28mcls\u001b[39m(buf, protocol)\u001b[38;5;241m.\u001b[39mdump(obj)\n\u001b[0;32m     52\u001b[0m     \u001b[38;5;28;01mreturn\u001b[39;00m buf\u001b[38;5;241m.\u001b[39mgetbuffer()\n",
      "\u001b[1;31mRecursionError\u001b[0m: maximum recursion depth exceeded while calling a Python object"
     ]
    }
   ],
   "source": [
    "#多线程\n",
    "# def main():\n",
    "#     target = 'https://www.23wx.vip/book_5690/'\n",
    "#     req = requests.get(url = target)\n",
    "#     req.encoding = 'GB2312'\n",
    "#     html = req.text\n",
    "#     bs = BeautifulSoup(html, 'lxml')\n",
    "#     chapters = bs.find('div', id='list')\n",
    "#     chapters = chapters.find_all('a')\n",
    "#     skip=0;#skip first 12 chapeter\n",
    "#     pool = Pool(6)\n",
    "#     for chapter in chapters:\n",
    "#         skip += 1\n",
    "#         if(skip<=12):\n",
    "#             continue\n",
    "#         else:\n",
    "#             print(skip)\n",
    "#             pool.apply(func=download,args=(chapter,))\n",
    "#     pool.close()\n",
    "#     pool.join()\n",
    "# if __name__ == '__main__':\n",
    "#     main();"
   ]
  }
 ],
 "metadata": {
  "kernelspec": {
   "display_name": "Python 3 (ipykernel)",
   "language": "python",
   "name": "python3"
  },
  "language_info": {
   "codemirror_mode": {
    "name": "ipython",
    "version": 3
   },
   "file_extension": ".py",
   "mimetype": "text/x-python",
   "name": "python",
   "nbconvert_exporter": "python",
   "pygments_lexer": "ipython3",
   "version": "3.11.5"
  }
 },
 "nbformat": 4,
 "nbformat_minor": 5
}
